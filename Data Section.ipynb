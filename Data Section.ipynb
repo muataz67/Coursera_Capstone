{
 "cells": [
  {
   "cell_type": "markdown",
   "metadata": {},
   "source": [
    "### Description of the data and how it will be used to solve the problem"
   ]
  },
  {
   "cell_type": "markdown",
   "metadata": {},
   "source": [
    "We will start by using web scraping of the wikipedia site containing the information about the neighborhoods in Toronto.  The Geocoder Python package will then be used to retrieve the latitudes and longitudes of each borough. After some modifications and cleaning, this information was used as input for the Foursquare API to get information of Middle Eastern restaurants in the respective neighborhoods."
   ]
  },
  {
   "cell_type": "markdown",
   "metadata": {},
   "source": [
    "I plan to use the following:\n",
    "Use multiple datasets from different sources (i.e. Web, Geocode, CSV files, Foursquare API)\n",
    "Impement Python Webscraping using Beautifulsoup\n",
    "Perform Data Preprocessing and Cleaning\n",
    "Carry out Data Analysis\n",
    "Make conclusions based on the analysis"
   ]
  },
  {
   "cell_type": "code",
   "execution_count": null,
   "metadata": {},
   "outputs": [],
   "source": []
  }
 ],
 "metadata": {
  "kernelspec": {
   "display_name": "Python 3",
   "language": "python",
   "name": "python3"
  },
  "language_info": {
   "codemirror_mode": {
    "name": "ipython",
    "version": 3
   },
   "file_extension": ".py",
   "mimetype": "text/x-python",
   "name": "python",
   "nbconvert_exporter": "python",
   "pygments_lexer": "ipython3",
   "version": "3.8.5"
  }
 },
 "nbformat": 4,
 "nbformat_minor": 4
}
